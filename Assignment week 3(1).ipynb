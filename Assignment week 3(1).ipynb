{
 "cells": [
  {
   "cell_type": "markdown",
   "id": "b48551e9-9df0-4761-8c3f-c415f1e352ec",
   "metadata": {},
   "source": [
    "1.> 'def', 'lambda' function is used to create a function."
   ]
  },
  {
   "cell_type": "code",
   "execution_count": 1,
   "id": "2be39b55-120e-4cd0-bd7d-62c1ef929418",
   "metadata": {},
   "outputs": [],
   "source": [
    "def odd():\n",
    "    l=[]\n",
    "    for i in range(1,26):\n",
    "        if i%2!=0:\n",
    "            l.append(i)\n",
    "    return(l)"
   ]
  },
  {
   "cell_type": "code",
   "execution_count": 2,
   "id": "4af35eef-5d4f-4499-b4b4-65cdf31e2b91",
   "metadata": {},
   "outputs": [
    {
     "data": {
      "text/plain": [
       "[1, 3, 5, 7, 9, 11, 13, 15, 17, 19, 21, 23, 25]"
      ]
     },
     "execution_count": 2,
     "metadata": {},
     "output_type": "execute_result"
    }
   ],
   "source": [
    "odd()"
   ]
  },
  {
   "cell_type": "markdown",
   "id": "f5c3d2ae-2e70-47c9-8706-07abc54df1ce",
   "metadata": {},
   "source": [
    "2.>'*args' is used to take infinite number of input in the form of tuple .\n",
    "   '**kwargs' is used to take infinite number of input and displaying them in dictionary form."
   ]
  },
  {
   "cell_type": "code",
   "execution_count": 3,
   "id": "30dbb3b9-4518-4c1c-9cbd-50395af11562",
   "metadata": {},
   "outputs": [],
   "source": [
    "def add(*args):\n",
    "    x=0\n",
    "    for i in args:\n",
    "        x+=i\n",
    "    return x"
   ]
  },
  {
   "cell_type": "code",
   "execution_count": 4,
   "id": "dbf9231e-2ef0-4cde-9d20-b515e21a7249",
   "metadata": {},
   "outputs": [
    {
     "data": {
      "text/plain": [
       "55"
      ]
     },
     "execution_count": 4,
     "metadata": {},
     "output_type": "execute_result"
    }
   ],
   "source": [
    "add(1,2,3,4,5,6,7,8,9,10)"
   ]
  },
  {
   "cell_type": "markdown",
   "id": "2c9138a0-1da7-4c9c-a14f-83cf3958b1dc",
   "metadata": {},
   "source": [
    "3.>An object that allows you to iterate over collections of data, such    as lists, tuples, dictionaries, and sets.'iter()' function is used to initialise itrator object. 'next()' function is used for itration."
   ]
  },
  {
   "cell_type": "code",
   "execution_count": 5,
   "id": "3f0f8b5f-0d41-4c22-95ab-312b02295f2e",
   "metadata": {},
   "outputs": [],
   "source": [
    "def test(l):\n",
    "    for i in l:\n",
    "        yield i"
   ]
  },
  {
   "cell_type": "code",
   "execution_count": 6,
   "id": "82e8b2cc-5366-45ba-9431-3614b953381a",
   "metadata": {},
   "outputs": [
    {
     "name": "stdout",
     "output_type": "stream",
     "text": [
      "2\n",
      "4\n",
      "6\n",
      "8\n",
      "10\n"
     ]
    }
   ],
   "source": [
    "a=test([2,4,6,8,10,1,14,16,18,20])\n",
    "for i in range(5):\n",
    "    print(next(a))"
   ]
  },
  {
   "cell_type": "markdown",
   "id": "7d38e7cf-4c15-47d0-973d-914d91fc2780",
   "metadata": {},
   "source": [
    "4.> Generator function is used to decrease pressure from computer's memory. As     in a list it would generate the full data at once due to which it will         take a large space but if it will generate each element thet it will take     less memory\n",
    "    'yield' keyword is used to generate data."
   ]
  },
  {
   "cell_type": "code",
   "execution_count": 2,
   "id": "dbabb8d9-18a2-4e5c-9af2-7086a878067f",
   "metadata": {},
   "outputs": [],
   "source": [
    "def gp(a,r,n):\n",
    "    b=1\n",
    "    for i in range(n):\n",
    "        yield b\n",
    "        b*=a**r"
   ]
  },
  {
   "cell_type": "code",
   "execution_count": 3,
   "id": "c855adef-9661-48a8-85e5-12d17f52f811",
   "metadata": {},
   "outputs": [
    {
     "name": "stdout",
     "output_type": "stream",
     "text": [
      "1\n",
      "4\n",
      "16\n",
      "64\n",
      "256\n",
      "1024\n",
      "4096\n",
      "16384\n",
      "65536\n",
      "262144\n"
     ]
    }
   ],
   "source": [
    "gp=gp(2,2,10)\n",
    "for i in gp:\n",
    "    print(i)"
   ]
  },
  {
   "cell_type": "code",
   "execution_count": 11,
   "id": "80d969e4-b65b-4e97-81d7-89793b210e36",
   "metadata": {},
   "outputs": [],
   "source": [
    "#5.> First 20 prime numbers\n",
    "def prime():\n",
    "    for i in range(1,1000):\n",
    "        a=0\n",
    "        for n in range(1,i):\n",
    "            if i%n==0:\n",
    "                a+=1\n",
    "        if a==1:\n",
    "            yield i"
   ]
  },
  {
   "cell_type": "code",
   "execution_count": 12,
   "id": "7074fd00-988b-48a2-bf58-b3e234b7c38d",
   "metadata": {},
   "outputs": [
    {
     "name": "stdout",
     "output_type": "stream",
     "text": [
      "2\n",
      "3\n",
      "5\n",
      "7\n",
      "11\n",
      "13\n",
      "17\n",
      "19\n",
      "23\n",
      "29\n",
      "31\n",
      "37\n",
      "41\n",
      "43\n",
      "47\n",
      "53\n",
      "59\n",
      "61\n",
      "67\n",
      "71\n"
     ]
    }
   ],
   "source": [
    "pp=prime()\n",
    "for i in range(20):\n",
    "    print(next(pp))"
   ]
  },
  {
   "cell_type": "code",
   "execution_count": 13,
   "id": "ccfff3d6-3930-42fe-bd86-303853514ee7",
   "metadata": {},
   "outputs": [
    {
     "name": "stdout",
     "output_type": "stream",
     "text": [
      "0\n",
      "1\n",
      "1\n",
      "2\n",
      "3\n",
      "5\n",
      "8\n",
      "13\n",
      "21\n",
      "34\n"
     ]
    }
   ],
   "source": [
    "#6.>\n",
    "a,b=0,1\n",
    "for i in range(10):\n",
    "    print(a)\n",
    "    a,b=b,a+b\n"
   ]
  },
  {
   "cell_type": "code",
   "execution_count": 16,
   "id": "4da470a4-6ec5-494e-bb57-16e56f978cc6",
   "metadata": {},
   "outputs": [
    {
     "name": "stdout",
     "output_type": "stream",
     "text": [
      "['p', 'w', 's', 'k', 'i', 'l', 'l', 's']\n"
     ]
    }
   ],
   "source": [
    "#7.>\n",
    "l=[]\n",
    "for i in 'pwskills':\n",
    "    l.append(i)\n",
    "print(l)"
   ]
  },
  {
   "cell_type": "code",
   "execution_count": 38,
   "id": "96a49574-5078-4079-bfed-f61c1cc44260",
   "metadata": {},
   "outputs": [
    {
     "name": "stdin",
     "output_type": "stream",
     "text": [
      "Input a number: 121\n"
     ]
    },
    {
     "name": "stdout",
     "output_type": "stream",
     "text": [
      "It is a palindrome number\n"
     ]
    }
   ],
   "source": [
    "#8.>\n",
    "l=list(input('Input a number:'))\n",
    "a=[]\n",
    "for i in l:\n",
    "    a.append(i)\n",
    "if l==a:\n",
    "    print('It is a palindrome number')\n",
    "else:\n",
    "    print('It is not a palindrome number')"
   ]
  },
  {
   "cell_type": "code",
   "execution_count": 44,
   "id": "3fd56728-e193-422f-ad93-ea320710f5da",
   "metadata": {},
   "outputs": [],
   "source": [
    "def List():\n",
    "    x=[]\n",
    "    for i in range(1,101):\n",
    "        x.append(i)\n",
    "    return x"
   ]
  },
  {
   "cell_type": "code",
   "execution_count": 46,
   "id": "83fffded-3926-4649-8f1a-e6b8e5b06fdf",
   "metadata": {},
   "outputs": [
    {
     "data": {
      "text/plain": [
       "[]"
      ]
     },
     "execution_count": 46,
     "metadata": {},
     "output_type": "execute_result"
    }
   ],
   "source": [
    "list(filter(lambda x:x%2!=0,List()))"
   ]
  },
  {
   "cell_type": "code",
   "execution_count": null,
   "id": "0f7c753d-ca48-4283-9419-fe3ec40310cf",
   "metadata": {},
   "outputs": [],
   "source": []
  },
  {
   "cell_type": "code",
   "execution_count": null,
   "id": "ebaa254c-f13a-412d-9910-743876b4bd28",
   "metadata": {},
   "outputs": [],
   "source": []
  }
 ],
 "metadata": {
  "kernelspec": {
   "display_name": "Python 3 (ipykernel)",
   "language": "python",
   "name": "python3"
  },
  "language_info": {
   "codemirror_mode": {
    "name": "ipython",
    "version": 3
   },
   "file_extension": ".py",
   "mimetype": "text/x-python",
   "name": "python",
   "nbconvert_exporter": "python",
   "pygments_lexer": "ipython3",
   "version": "3.10.8"
  }
 },
 "nbformat": 4,
 "nbformat_minor": 5
}
